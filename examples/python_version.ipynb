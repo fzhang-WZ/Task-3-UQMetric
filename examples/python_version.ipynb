{
 "cells": [
  {
   "cell_type": "code",
   "execution_count": 1,
   "metadata": {
    "collapsed": true
   },
   "outputs": [],
   "source": [
    "import pandas as pd"
   ]
  },
  {
   "cell_type": "code",
   "execution_count": 20,
   "outputs": [],
   "source": [
    "from python_src.metrics import SingleTimeSeriesMovingWindowMetrics\n",
    "\n",
    "single_data = pd.read_csv('..\\\\sample_data\\\\il_argonne_10m_2018.csv') # read data\n",
    "\n",
    "single_data['Obs10m'] = single_data['Obs10m'].interpolate(method='linear') # interpolate missing values\n",
    "\n",
    "st_10m = SingleTimeSeriesMovingWindowMetrics(single_data['Obs10m'], 12) # create object\n",
    "\n",
    "results_10m = {\"entropy_10m\": st_10m.entropy(), \"standard_deviation_10m\": st_10m.standard_deviation(), \"turbulence_intensity_10m\": st_10m.turbulence_intensity(), \"variability_index_10m\": st_10m.variability_index()} # calculate metrics\n",
    "\n",
    "results_10m=pd.DataFrame(results_10m) # convert to dataframe\n",
    "\n",
    "results_10m.to_csv('..\\\\results\\\\single_time_series.csv') # save results"
   ],
   "metadata": {
    "collapsed": false
   }
  },
  {
   "cell_type": "code",
   "execution_count": 23,
   "outputs": [],
   "source": [
    "from python_src.metrics import EnsembleMember\n",
    "\n",
    "ensemble_data = pd.read_csv('..\\\\sample_data\\\\PaloDuro.csv') # read data\n",
    "\n",
    "ensemble_data = ensemble_data.interpolate(method='linear') # interpolate missing values\n",
    "\n",
    "ensemble = EnsembleMember(ensemble_data, 12) # create object\n",
    "\n",
    "results_merged = pd.concat([ensemble.correlation(), ensemble.mape(), ensemble.nrmse(), ensemble.nmae(), ensemble.crps()], axis=1) # merge results\n",
    "\n",
    "results_merged.to_csv('..\\\\results\\\\ensemble_results.csv')# save results"
   ],
   "metadata": {
    "collapsed": false
   }
  },
  {
   "cell_type": "code",
   "execution_count": 18,
   "outputs": [],
   "source": [
    "# calculate spread index\n",
    "\n",
    "spread_index = ensemble.spread_index()\n",
    "spread_index.to_csv('..\\\\results\\\\SI_results.csv')# save results"
   ],
   "metadata": {
    "collapsed": false
   }
  },
  {
   "cell_type": "code",
   "execution_count": 19,
   "outputs": [],
   "source": [
    "# calculate predictablity index\n",
    "\n",
    "PI = ensemble.predictablity_index()\n",
    "PI.to_csv('..\\\\results\\\\PI_results.csv')# save results"
   ],
   "metadata": {
    "collapsed": false
   }
  },
  {
   "cell_type": "code",
   "execution_count": 25,
   "outputs": [],
   "source": [
    "from python_src.metrics import MultipleTimeSeries\n",
    "\n",
    "multi_data = pd.read_csv('..\\\\sample_data\\\\PaloDuro.csv') # read data\n",
    "\n",
    "multi_data = multi_data.interpolate(method='linear') # interpolate missing values\n",
    "\n",
    "multi = MultipleTimeSeries(multi_data, 12) # create object\n",
    "\n",
    "results_merged = pd.concat([multi.correlation(), multi.mape()], axis=1) # merge results\n",
    "\n",
    "results_merged.to_csv('..\\\\results\\\\multi_time_results.csv')# save results"
   ],
   "metadata": {
    "collapsed": false
   }
  },
  {
   "cell_type": "code",
   "execution_count": 26,
   "outputs": [],
   "source": [
    "# calculate spread index\n",
    "\n",
    "spread_index = multi.spread_index()\n",
    "spread_index.to_csv('..\\\\results\\\\multi_SI_results.csv')# save results"
   ],
   "metadata": {
    "collapsed": false
   }
  },
  {
   "cell_type": "code",
   "execution_count": 27,
   "outputs": [],
   "source": [
    "# calculate predictablity index\n",
    "\n",
    "PI = multi.predictablity_index()\n",
    "PI.to_csv('..\\\\results\\\\multi_PI_results.csv')# save results"
   ],
   "metadata": {
    "collapsed": false
   }
  }
 ],
 "metadata": {
  "kernelspec": {
   "display_name": "Python 3",
   "language": "python",
   "name": "python3"
  },
  "language_info": {
   "codemirror_mode": {
    "name": "ipython",
    "version": 2
   },
   "file_extension": ".py",
   "mimetype": "text/x-python",
   "name": "python",
   "nbconvert_exporter": "python",
   "pygments_lexer": "ipython2",
   "version": "2.7.6"
  }
 },
 "nbformat": 4,
 "nbformat_minor": 0
}
